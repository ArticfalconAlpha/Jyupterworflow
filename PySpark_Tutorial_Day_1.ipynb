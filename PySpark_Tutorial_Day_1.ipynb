{
 "cells": [
  {
   "cell_type": "code",
   "execution_count": 2,
   "id": "fd086b54",
   "metadata": {},
   "outputs": [],
   "source": [
    "import pyspark"
   ]
  },
  {
   "cell_type": "code",
   "execution_count": 3,
   "id": "08a6f7a9",
   "metadata": {},
   "outputs": [],
   "source": [
    "from pyspark.sql import SparkSession"
   ]
  },
  {
   "cell_type": "code",
   "execution_count": 26,
   "id": "ab1b5aad",
   "metadata": {},
   "outputs": [],
   "source": [
    "spark=SparkSession.builder.appName('Practice').getOrCreate()"
   ]
  },
  {
   "cell_type": "code",
   "execution_count": 5,
   "id": "166b002f",
   "metadata": {},
   "outputs": [
    {
     "data": {
      "text/html": [
       "\n",
       "            <div>\n",
       "                <p><b>SparkSession - in-memory</b></p>\n",
       "                \n",
       "        <div>\n",
       "            <p><b>SparkContext</b></p>\n",
       "\n",
       "            <p><a href=\"http://DESKTOP-4D2OH5Q.mshome.net:4041\">Spark UI</a></p>\n",
       "\n",
       "            <dl>\n",
       "              <dt>Version</dt>\n",
       "                <dd><code>v3.3.1</code></dd>\n",
       "              <dt>Master</dt>\n",
       "                <dd><code>local[*]</code></dd>\n",
       "              <dt>AppName</dt>\n",
       "                <dd><code>Practice</code></dd>\n",
       "            </dl>\n",
       "        </div>\n",
       "        \n",
       "            </div>\n",
       "        "
      ],
      "text/plain": [
       "<pyspark.sql.session.SparkSession at 0x1972a6e47d0>"
      ]
     },
     "execution_count": 5,
     "metadata": {},
     "output_type": "execute_result"
    }
   ],
   "source": [
    "spark"
   ]
  },
  {
   "cell_type": "code",
   "execution_count": 27,
   "id": "27a331a9",
   "metadata": {},
   "outputs": [],
   "source": [
    "filename = (\"C:\\\\Users\\\\sunny\\\\OneDrive\\\\Desktop\\\\Pyspark\\\\Files\\\\CSV\\\\Employee.csv\")\n",
    "df_pyspark=spark.read.csv(filename)"
   ]
  },
  {
   "cell_type": "code",
   "execution_count": 28,
   "id": "d022573a",
   "metadata": {},
   "outputs": [
    {
     "data": {
      "text/plain": [
       "[Row(_c0='Name', _c1='Age', _c2='Experience', _c3='Salary'),\n",
       " Row(_c0='Ewen', _c1='29', _c2='4', _c3='64192'),\n",
       " Row(_c0='Cathe', _c1='29', _c2='4', _c3='88167')]"
      ]
     },
     "execution_count": 28,
     "metadata": {},
     "output_type": "execute_result"
    }
   ],
   "source": [
    "df_pyspark.head(3)"
   ]
  },
  {
   "cell_type": "code",
   "execution_count": 29,
   "id": "5f1eec5f",
   "metadata": {},
   "outputs": [
    {
     "name": "stdout",
     "output_type": "stream",
     "text": [
      "+---------+---+----------+------+\n",
      "|     Name|Age|Experience|Salary|\n",
      "+---------+---+----------+------+\n",
      "|     Ewen| 29|         4| 64192|\n",
      "|    Cathe| 29|         4| 88167|\n",
      "|      Lou| 23|      null| 65800|\n",
      "|   Brodie| 24|         2| 83647|\n",
      "|     Lida| 25|         3| 39130|\n",
      "|  Maurise| 27|         1| 92733|\n",
      "|Hollyanne| 24|         1| 47835|\n",
      "|    Elnar| 27|         2| 86607|\n",
      "|   Marysa| 27|         4| 44967|\n",
      "|  Cristal| 25|         1| 53451|\n",
      "|    Ginny| 25|         1| 87980|\n",
      "| Adrianne| 22|         3| 81480|\n",
      "|  Thibaut| 26|      null| 88426|\n",
      "|  Celinka| 23|         5| 43358|\n",
      "| Phillida| 26|         3| 92880|\n",
      "|    Joyce| 22|      null| 32733|\n",
      "| Brandice| 23|         5| 93060|\n",
      "| Angelica| 25|      null| 63622|\n",
      "|     Alex| 29|      null| 69740|\n",
      "|   Kettie| 29|         5| 66865|\n",
      "+---------+---+----------+------+\n",
      "\n"
     ]
    }
   ],
   "source": [
    "spark.read.option('header','true').csv(filename).show()"
   ]
  },
  {
   "cell_type": "code",
   "execution_count": 30,
   "id": "3e72349c",
   "metadata": {},
   "outputs": [
    {
     "name": "stdout",
     "output_type": "stream",
     "text": [
      "+-----+---+----------+------+\n",
      "|  _c0|_c1|       _c2|   _c3|\n",
      "+-----+---+----------+------+\n",
      "| Name|Age|Experience|Salary|\n",
      "| Ewen| 29|         4| 64192|\n",
      "|Cathe| 29|         4| 88167|\n",
      "+-----+---+----------+------+\n",
      "only showing top 3 rows\n",
      "\n"
     ]
    }
   ],
   "source": [
    "##checking the top 3\n",
    "df_pyspark.show(3)"
   ]
  },
  {
   "cell_type": "code",
   "execution_count": 33,
   "id": "48cdd272",
   "metadata": {},
   "outputs": [
    {
     "data": {
      "text/plain": [
       "Row(_c0='Name', _c1='Age', _c2='Experience', _c3='Salary')"
      ]
     },
     "execution_count": 33,
     "metadata": {},
     "output_type": "execute_result"
    }
   ],
   "source": [
    "df_pyspark.head()"
   ]
  },
  {
   "cell_type": "code",
   "execution_count": 39,
   "id": "2e5f9da0",
   "metadata": {},
   "outputs": [
    {
     "name": "stdout",
     "output_type": "stream",
     "text": [
      "+---------+---+----------+------+\n",
      "|      _c0|_c1|       _c2|   _c3|\n",
      "+---------+---+----------+------+\n",
      "|     Name|Age|Experience|Salary|\n",
      "|     Ewen| 29|         4| 64192|\n",
      "|    Cathe| 29|         4| 88167|\n",
      "|      Lou| 23|      null| 65800|\n",
      "|   Brodie| 24|         2| 83647|\n",
      "|     Lida| 25|         3| 39130|\n",
      "|  Maurise| 27|         1| 92733|\n",
      "|Hollyanne| 24|         1| 47835|\n",
      "|    Elnar| 27|         2| 86607|\n",
      "|   Marysa| 27|         4| 44967|\n",
      "|  Cristal| 25|         1| 53451|\n",
      "|    Ginny| 25|         1| 87980|\n",
      "| Adrianne| 22|         3| 81480|\n",
      "|  Thibaut| 26|      null| 88426|\n",
      "|  Celinka| 23|         5| 43358|\n",
      "| Phillida| 26|         3| 92880|\n",
      "|    Joyce| 22|      null| 32733|\n",
      "| Brandice| 23|         5| 93060|\n",
      "| Angelica| 25|      null| 63622|\n",
      "|     Alex| 29|      null| 69740|\n",
      "+---------+---+----------+------+\n",
      "only showing top 20 rows\n",
      "\n"
     ]
    }
   ],
   "source": [
    "##working with github push\n",
    "##df_Pyspark.show()\n",
    "df_pyspark.show()"
   ]
  },
  {
   "cell_type": "code",
   "execution_count": 41,
   "id": "89b0a73d",
   "metadata": {},
   "outputs": [
    {
     "name": "stdout",
     "output_type": "stream",
     "text": [
      "root\n",
      " |-- _c0: string (nullable = true)\n",
      " |-- _c1: string (nullable = true)\n",
      " |-- _c2: string (nullable = true)\n",
      " |-- _c3: string (nullable = true)\n",
      "\n"
     ]
    }
   ],
   "source": [
    "##last git push\n",
    "df_pyspark.printSchema()\n"
   ]
  },
  {
   "cell_type": "code",
   "execution_count": null,
   "id": "632f6845",
   "metadata": {},
   "outputs": [],
   "source": []
  }
 ],
 "metadata": {
  "kernelspec": {
   "display_name": "Python 3 (ipykernel)",
   "language": "python",
   "name": "python3"
  },
  "language_info": {
   "codemirror_mode": {
    "name": "ipython",
    "version": 3
   },
   "file_extension": ".py",
   "mimetype": "text/x-python",
   "name": "python",
   "nbconvert_exporter": "python",
   "pygments_lexer": "ipython3",
   "version": "3.11.0"
  }
 },
 "nbformat": 4,
 "nbformat_minor": 5
}
